{
 "cells": [
  {
   "cell_type": "markdown",
   "metadata": {},
   "source": [
    "## Presentación\n",
    "\n",
    "Estos ejercicios tienen el fin de poder evaluar la situación en la que se encuentra cada unx de ustedes a esta altura de la materia. No es un examen, ni llevará ningún tipo de nota.\n",
    "\n",
    "Les pedimos que respeten al pie de la letra el nombre de las funciones que les damos para completar y su \"signature\". Esto es, que respeten los argumentos de entrada y la salida. Esto es porque tenemos una forma de verificación automática que de otra manera no funciona. Cuando hayamos recibido los notebooks, haremos público el código de control.\n",
    "\n",
    "Por supuesto, si quieren agregar celdas y más código, si quieren hacer pruebas para asegurarse de que el código funciona, etc., pueden hacerlo aquí mismo.\n",
    "\n",
    "La _modalidad de entrega preferencial_ es a través de GitHub:\n",
    "1. Hacer un fork del [repositorio](https://github.com/exord/UNSAM_IA), tocando el botón de arriba a la derecha (ver figura). \n",
    "\n",
    "2. Crear un subdirectorio dentro del directorio <tt>entregas</tt> con el formato \"ApellidoNombre\"\n",
    "3. Completar este notebook y colocarlo en ese directorio. Hacer un \"commit\" y un \"push\" a su versión del repositorio.\n",
    "4. Realizar un <tt>pull request</tt> desde GitHub y seguir las instrucciones. Más información en la [página de GitHub](https://help.github.com/en/github/collaborating-with-issues-and-pull-requests/about-pull-requests).\n",
    "\n",
    "De ser necesario, en caso de sufrir de **alergia severa a GitHub**, el notebook puede enviarse por email.\n",
    "\n",
    "La **fecha límite** para la entrega es el **martes 21 de abril a las 20 horas**.\n",
    "\n",
    "<figure>\n",
    "    <img src=\"figures/fork_pullrequest.jpeg\", alt=\"Fork\", width=\"800px\", \n",
    "         style=\"float: left; margin-right: 10px;\"/>\n",
    "    \n",
    "     <figcaption>Fig.1 - Ubicación de los botones para Fork y Pull request en Github.</figcaption>\n",
    "</figure>"
   ]
  },
  {
   "cell_type": "markdown",
   "metadata": {},
   "source": [
    "Entrega de Mariano Forti\n",
    "===================="
   ]
  },
  {
   "cell_type": "markdown",
   "metadata": {
    "colab_type": "text",
    "id": "xQGJAaz9My8p"
   },
   "source": [
    "## 1. Probabilidad Condicional"
   ]
  },
  {
   "cell_type": "code",
   "execution_count": 1,
   "metadata": {
    "colab": {},
    "colab_type": "code",
    "id": "UV8ZHtWoMWVd"
   },
   "outputs": [
    {
     "name": "stdout",
     "output_type": "stream",
     "text": [
      "mkdir: no se puede crear el directorio «datasets»: El fichero ya existe\n",
      "mkdir: no se puede crear el directorio «datasets/student-alcohol-consumption»: El fichero ya existe\n",
      "--2020-04-16 07:58:04--  https://raw.githubusercontent.com/exord/UNSAM_IA/master/datasets/student-alcohol-consumption/student-mat.csv\n",
      "Resolviendo raw.githubusercontent.com (raw.githubusercontent.com)... 151.101.192.133, 151.101.0.133, 151.101.64.133, ...\n",
      "Conectando con raw.githubusercontent.com (raw.githubusercontent.com)[151.101.192.133]:443... conectado.\n",
      "Petición HTTP enviada, esperando respuesta... 200 OK\n",
      "Longitud: 41983 (41K) [text/plain]\n",
      "Grabando a: “student-mat.csv”\n",
      "\n",
      "student-mat.csv     100%[===================>]  41.00K   160KB/s    en 0.3s    \n",
      "\n",
      "2020-04-16 07:58:04 (160 KB/s) - “student-mat.csv” guardado [41983/41983]\n",
      "\n"
     ]
    }
   ],
   "source": [
    "#Si estas en Google Colab, ejecuta esta celda una unica vez:\n",
    "!mkdir datasets\n",
    "!mkdir datasets/student-alcohol-consumption\n",
    "!wget https://raw.githubusercontent.com/exord/UNSAM_IA/master/datasets/student-alcohol-consumption/student-mat.csv\n",
    "!mv student-mat.csv datasets/student-alcohol-consumption/student-mat.csv"
   ]
  },
  {
   "cell_type": "markdown",
   "metadata": {
    "colab_type": "text",
    "id": "MDyX2WNDM1fC"
   },
   "source": [
    "Similar al ***Caso: Apruebo si falto a clase?*** del [notebook de probabilidad condicional](02_Condicional.ipynb), calcule la probabilidad de que un alumno haya faltado menos de 3 veces dado que sacó más de un 60% en la materia, i.e.\n",
    "$$\n",
    "P( \\text{absences} < 3 | \\text{G3} \\geq 12).\n",
    "$$\n",
    "\n",
    "Por favor, utilice el siguiente signature. Se recomienda cambiar el código solamente entre los comentarios \"Start\" y \"Finish\". \n",
    "Si quiere probar cosas, siéntase libre de crear nuevas celdas de código, aunque estas no serán evaluadas."
   ]
  },
  {
   "cell_type": "markdown",
   "metadata": {},
   "source": [
    "me pide $ P( \\text{absences} < 3 | \\text{G3} \\geq 12)$\n",
    "donde $G3$ era la nota final \n",
    "es\n",
    "$$ P( \\text{absences} < 3 | \\text{G3} \\geq 12) = P(\\text{faltapoco}|\\text{buenanota})$$\n",
    "$$ P(\\text{faltapoco}|buenanota) = \n",
    "\\frac{ P(\\text{faltapoco} \\cap \\text{buenanota})}{P(\\text{buenanota})}$$\n"
   ]
  },
  {
   "cell_type": "code",
   "execution_count": 14,
   "metadata": {
    "colab": {},
    "colab_type": "code",
    "id": "kgp3Px1JNFbA",
    "scrolled": true
   },
   "outputs": [
    {
     "name": "stdout",
     "output_type": "stream",
     "text": [
      "faltapoco    0    1\n",
      "buenanota          \n",
      "0          131  102\n",
      "1           81   81\n",
      "la proba de que falta poco dado que tiene buena nota es {:.4f} 0.4426229508196721\n"
     ]
    }
   ],
   "source": [
    "import numpy as np\n",
    "import pandas as pd\n",
    "\n",
    "def prob_condicional(df=pd.read_csv('datasets/student-alcohol-consumption/student-mat.csv')):\n",
    "    \n",
    "    \"\"\"Calcula P(absences < 3 | G3 >= 12).\n",
    "\n",
    "    Input:\n",
    "    df -- dataset de estudiantes\n",
    "\n",
    "    Output:\n",
    "    p        -- probabilidad de que absences > 3 dado que G3 >= 12\n",
    "    \"\"\"\n",
    "    # Start\n",
    "    #guarda el valor final, como un número, en esta variable\n",
    "    # casi que copiando lo de la clase, armo columnas que cuenten los casos \n",
    "    # donde los criterios son true\n",
    "    \n",
    "    df['faltapoco']=np.where(df['absences']<3,1,0)\n",
    "    df['buenanota']=np.where(df['G3']>=12,1,0)\n",
    "    # de nuevo, agrego una columna de 'cuentas'\n",
    "    df['cuenta']=1\n",
    "    # y ahora hago una copia solo con las columnas que me interesan,\n",
    "    interest = df[['faltapoco','buenanota','cuenta']]\n",
    "    # que luego voy a pivotear para sumar los que cumplen cada criterio.\n",
    "    # ojo, porque lo que pongo en 'index' y en 'column' tiene que ver con la proba que \n",
    "    # quiero calcular. \n",
    "    # lo que se pone en 'values' es el argumento de lo que usa con aggr, y es P(Index|columns)?\n",
    "    pivot_interest = pd.pivot_table(\n",
    "        interest,\n",
    "        values = 'cuenta',\n",
    "        index = 'buenanota',  #'buenanota',\n",
    "        columns = 'faltapoco', #'faltapoco',\n",
    "        aggfunc = np.sum,\n",
    "        fill_value = 0 \n",
    "    )\n",
    "    # luego, no buena nota y no falta poco:\n",
    "    nbnynfp = pivot_interest[0][0]\n",
    "    # no buena nota y falta poco\n",
    "    nbnytfp = pivot_interest[0][1]\n",
    "    # buena nota y no falta poco \n",
    "    tbnynfp = pivot_interest[1][0]\n",
    "    # buena nota y falta poco\n",
    "    tbnytfp = pivot_interest[1][1]\n",
    "    # total buena nota\n",
    "    tbn = tbnytfp + tbnynfp\n",
    "    # total falta poco\n",
    "    tfp = tbnytfp + nbnytfp\n",
    "    # luego, faltapoco dado que tiene buena nota, es\n",
    "    # tfp_tbn = p(tfpytbn=tbnytfp)/p(tbn)\n",
    "    total_casos = (nbnynfp+tbnytfp + tbnynfp + tbnytfp)\n",
    "    resultado = tbnytfp / tbn\n",
    "    print(probas)\n",
    "    print('la proba de que falta poco dado que tiene buena nota es {:.4f}',format(res))\n",
    "    #Finish\n",
    "    \n",
    "    return resultado\n",
    "\n",
    "res = prob_condicional()"
   ]
  },
  {
   "cell_type": "markdown",
   "metadata": {
    "colab_type": "text",
    "id": "laC3JpLHOx-h"
   },
   "source": [
    "## 2. Inferencia Bayesiana"
   ]
  },
  {
   "cell_type": "markdown",
   "metadata": {
    "colab_type": "text",
    "id": "dfG9aID6_CLD"
   },
   "source": [
    "Se tira una moneda N veces, de las cuales X sale cara. La moneda sale cara con una frecuencia $\\mu$ desconocida, pero que se cree que es *fair*. \n",
    "\n",
    "Construya una función que recibe el vector con los N resultados (1: cara, 0: seca) y con él calcule tanto el posterior del parámetro $\\mu$ como la probabilidad de que $\\mu>0.7$. Use como prior una distribución normal con media 0.5 y desviación estandar 0.1 ($\\mathcal{N}(0.5,0.1)$)\n",
    "\n",
    "Por favor, utilice el siguiente signature. Se recomienda cambiar el código solamente entre los comentarios \"Start\" y \"Finish\". \n",
    "Si quiere probar cosas, siéntase libre de crear nuevas celdas de código, aunque estas no serán evaluadas.\n",
    "\n",
    "<b>Ayuda</b>: usar los métodos <tt>pdf</tt> y <tt>pmf</tt> de las clases de <tt>scipy.stats</tt> que se importan al principio de la celda. Revisar también los notebooks de [teoría](03_Inferencia.ipynb) y [práctica](03p_Inferencia_Soluciones.ipynb) que se presentaron en clase."
   ]
  },
  {
   "cell_type": "code",
   "execution_count": null,
   "metadata": {},
   "outputs": [],
   "source": []
  },
  {
   "cell_type": "code",
   "execution_count": null,
   "metadata": {},
   "outputs": [],
   "source": [
    "import numpy as np\n",
    "from scipy.stats import binom, norm\n",
    "\n",
    "def inferencia_moneda(tiradas, seed=123):\n",
    "    \"\"\"Realiza inferencia bayesiana en el parametro mu de una moneda.\n",
    "\n",
    "    Input:\n",
    "    tiradas -- Resultado de N tiradas\n",
    "    seed    -- Semilla para np.random (default=123)\n",
    "\n",
    "    Output:\n",
    "    p        -- probabilidad de que mu>0.7\n",
    "    posterior-- posterior de mu, shape=(100,)\n",
    "    \"\"\"\n",
    "    np.random.seed(seed)\n",
    "    mu, step = np.linspace(0,1,num=100, retstep=True) #step es el espacio entre puntos\n",
    "    #Numero de tiradas, y de veces que salio cara\n",
    "    N=len(tiradas)\n",
    "    X=np.sum(tiradas)\n",
    "    \n",
    "    #Start\n",
    "    prior = norm.pdf(mu,0.5,0.1) #None #Esto es el prior evaluado en el vector mu\n",
    "    # La verosimilitud para una tirada de monedas es una binomial\n",
    "    verosimilitud = binom.pmf(X,N,mu) #None #La verosimilitud evaluada en el vector mu\n",
    "    posterior = prior*verosimilitud #el posterior no normalizado\n",
    "    # la evidencia normaliza al posterior:\n",
    "    evidencia = posterior.sum()*step #None #evidencia o verosimilitud marginalizada\n",
    "    posterior = posterior/evidencia #normalizamos para obtener el posterior\n",
    "    #para obtener la proba de que mu > 0.7, tengo que integrar la posterior desde mu = 0.7 hasta 1\n",
    "\n",
    "    p = posterior[mu>0.7].sum()*step # None #Probabilidad de que mu > 0.7 \n",
    "    #Finish\n",
    "    assert len(posterior) == len(mu), \"Tamaño del posterior distinto al de mu\"\n",
    "    return p, np.array(posterior)"
   ]
  },
  {
   "cell_type": "code",
   "execution_count": 43,
   "metadata": {},
   "outputs": [
    {
     "name": "stdout",
     "output_type": "stream",
     "text": [
      "10 0.007315668668882223\n",
      "20 0.0009649526089236185\n",
      "30 0.0009692903617473166\n",
      "40 5.050107506841654e-05\n",
      "50 1.9823688717811693e-05\n",
      "60 2.0782206590817728e-05\n",
      "70 4.9795104954526834e-05\n",
      "80 4.5089404394812614e-05\n",
      "90 7.4720915480998595e-06\n",
      "100 2.910155597039389e-06\n"
     ]
    },
    {
     "data": {
      "text/plain": [
       "<matplotlib.legend.Legend at 0x7f11492564e0>"
      ]
     },
     "execution_count": 43,
     "metadata": {},
     "output_type": "execute_result"
    },
    {
     "data": {
      "image/png": "[encoded data removed]",
      "text/plain": [
       "<Figure size 432x288 with 1 Axes>"
      ]
     },
     "metadata": {
      "needs_background": "light"
     },
     "output_type": "display_data"
    }
   ],
   "source": [
    "# voy a probar que onda\n",
    "# voy a suponer true_mu =0.5 porque se cree que la moneda no esta trucada,pero tambien puedo  ver como va a cambiar\n",
    "# la proba pedida si cambio true mu. se ve que salvo que true mu sea mayor que 0.7, p(mu>0.7 cae rápiramente.)\n",
    "# seve que \n",
    "from scipy.stats import bernoulli\n",
    "import matplotlib.pyplot as plt\n",
    "%matplotlib inline\n",
    "truemu = 0.5\n",
    "N = 100 # maximo numer de tiradas\n",
    "tiradas = bernoulli.rvs(truemu,size=N)\n",
    "\n",
    "Ns = np.linspace(10,N,10,dtype=int)\n",
    "p = np.zeros(len(Ns))\n",
    "for i in range(len(Ns)):\n",
    "    n = Ns[i]\n",
    "    p[i], Pos = inferencia_moneda(tiradas[:n])\n",
    "    print( Ns[i],p[i])\n",
    "    MU = np.linspace(0,1,len(Pos)) \n",
    "    thislabel='{:d} tiradas'.format(n)\n",
    "    plt.plot(MU,Pos,label=thislabel)\n",
    "plt.ylabel(r'P($\\mu$) posterior')\n",
    "plt.xlabel(r'$\\mu$')\n",
    "plt.legend()"
   ]
  },
  {
   "cell_type": "code",
   "execution_count": 44,
   "metadata": {},
   "outputs": [
    {
     "data": {
      "text/plain": [
       "Text(0.5, 0, 'tiradas')"
      ]
     },
     "execution_count": 44,
     "metadata": {},
     "output_type": "execute_result"
    },
    {
     "data": {
      "image/png": "[encoded data removed]",
      "text/plain": [
       "<Figure size 432x288 with 1 Axes>"
      ]
     },
     "metadata": {
      "needs_background": "light"
     },
     "output_type": "display_data"
    }
   ],
   "source": [
    "plt.figure()\n",
    "plt.semilogy(Ns,p,'--o')\n",
    "plt.ylabel('$p(\\mu > 0.7)$')\n",
    "plt.xlabel('tiradas')"
   ]
  },
  {
   "cell_type": "markdown",
   "metadata": {
    "colab_type": "text",
    "id": "koZhGjvgO4uo"
   },
   "source": [
    "## 3. Regresión Lineal"
   ]
  },
  {
   "cell_type": "markdown",
   "metadata": {
    "colab_type": "text",
    "id": "TLYPUIQrPMgk"
   },
   "source": [
    "Construye una función que dado un input (X_train, Y_train) realice un ajuste lineal de cuadrados mínimos, y con ello devuelva las predicciones para el input X_test como un vector Y_test.\n",
    "\n",
    "Por favor, utilice el siguiente signature. Se recomienda cambiar el código solamente entre los comentarios \"Start\" y \"Finish\". \n",
    "Si quiere probar cosas, siéntase libre de crear nuevas celdas de código, aunque estas no serán evaluadas.\n",
    "\n",
    "<b>Ayuda</b>: pueden usar la implementación de las ecuaciones normales que aparece en el notebook de [modelos lineales](05_ModelosLineales.ipynb) o las clases del módulo <tt>sklearn.linear_model</tt>."
   ]
  },
  {
   "cell_type": "code",
   "execution_count": 57,
   "metadata": {
    "colab": {},
    "colab_type": "code",
    "id": "NavUqiDhPLx-"
   },
   "outputs": [],
   "source": [
    "import numpy as np\n",
    "\n",
    "def ajuste_lineal(X_train, Y_train, X_test):\n",
    "    \"\"\"Calcula un ajuste lineal.\n",
    "\n",
    "    Input:\n",
    "    X_train -- datos de entrenamiento, shape=(N,1)\n",
    "    Y_train -- etiquetas de entrenamiento, shape=(N,1)\n",
    "    X_test  -- datos de testeo, shape=(N_test,1)\n",
    "\n",
    "    Output:\n",
    "    Y_test  -- prediccion de etiquetas para X_test, shape=(N_test,1)\n",
    "    \"\"\"\n",
    "\n",
    "    N=len(X_train)\n",
    "    N_test=len(X_test)\n",
    "    #Start\n",
    "    # utilizo las funciones que hice en la guía, simplemente copio las lineas una a atras de la otra.\n",
    "    phi = np.hstack((np.ones((N,1)),X_train.reshape((N,1))))\n",
    "    WML = np.linalg.solve(phi.T.dot(phi) , phi.T.dot(Y_train)) \n",
    "    #ahora guardamos los resultados en esta variable\n",
    "    Y_test = WML[0]+WML[1]*X_test\n",
    "    #Finish\n",
    "    assert len(Y_test) == len(X_test), \"Tamaño de Y_test distinto al de X_test\"\n",
    "    return np.array(Y_test)"
   ]
  },
  {
   "cell_type": "code",
   "execution_count": 58,
   "metadata": {},
   "outputs": [],
   "source": [
    "# voy  a tomarme la livertad de probar con una funcion lineal con error\n",
    "from scipy.stats import norm\n",
    "import matplotlib.pyplot as plt\n",
    "%matplotlib inline\n",
    "\n",
    "xo = np.linspace(-1,1,100).astype(float)\n",
    "truea = 1\n",
    "trueb= 0\n",
    "yo = trueb + truea*xo\n",
    "# ya ahora un set the train:\n",
    "Ntrain = 30\n",
    "Ntest = 100\n",
    "X = np.random.rand(Ntrain)*2-1\n",
    "Y = trueb + truea*X + 0.2*norm.rvs(0,0.2,size=Ntrain)\n",
    "X_t = np.random.rand(100)*2-1\n"
   ]
  },
  {
   "cell_type": "code",
   "execution_count": 66,
   "metadata": {},
   "outputs": [
    {
     "data": {
      "image/png": "[encoded data removed]",
      "text/plain": [
       "<Figure size 432x288 with 1 Axes>"
      ]
     },
     "metadata": {
      "needs_background": "light"
     },
     "output_type": "display_data"
    }
   ],
   "source": [
    "plt.plot(X,Y,'ok',label='train data')\n",
    "plt.plot(xo,yo,'--r',label='ground truth')\n",
    "plt.legend()\n",
    "plt.show()"
   ]
  },
  {
   "cell_type": "code",
   "execution_count": 62,
   "metadata": {},
   "outputs": [],
   "source": [
    "# ahora me hago otro de test:\n",
    "X_t = np.random.rand(100)*2-1 \n",
    "# y luego uso la función que arme arriba\n",
    "Y_t = ajuste_lineal(X, Y, X_t)\n"
   ]
  },
  {
   "cell_type": "code",
   "execution_count": 69,
   "metadata": {},
   "outputs": [
    {
     "data": {
      "text/plain": [
       "[<matplotlib.lines.Line2D at 0x7f11480fdcf8>]"
      ]
     },
     "execution_count": 69,
     "metadata": {},
     "output_type": "execute_result"
    },
    {
     "data": {
      "image/png": "[encoded data removed]",
      "text/plain": [
       "<Figure size 432x288 with 1 Axes>"
      ]
     },
     "metadata": {
      "needs_background": "light"
     },
     "output_type": "display_data"
    }
   ],
   "source": [
    "#a ver como quedó:\n",
    "\n",
    "plt.plot(xo,yo,'or', label='ground truth')\n",
    "plt.plot(X_t,Y_t,label='Predicción')"
   ]
  },
  {
   "cell_type": "code",
   "execution_count": null,
   "metadata": {},
   "outputs": [],
   "source": []
  }
 ],
 "metadata": {
  "colab": {
   "collapsed_sections": [],
   "name": "Auto-evaluación.ipynb",
   "provenance": []
  },
  "kernelspec": {
   "display_name": "Python 3",
   "language": "python",
   "name": "python3"
  },
  "language_info": {
   "codemirror_mode": {
    "name": "ipython",
    "version": 3
   },
   "file_extension": ".py",
   "mimetype": "text/x-python",
   "name": "python",
   "nbconvert_exporter": "python",
   "pygments_lexer": "ipython3",
   "version": "3.6.10"
  }
 },
 "nbformat": 4,
 "nbformat_minor": 1
}
