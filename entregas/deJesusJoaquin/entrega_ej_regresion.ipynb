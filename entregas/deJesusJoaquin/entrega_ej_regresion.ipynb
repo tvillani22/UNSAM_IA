{
 "cells": [
  {
   "cell_type": "code",
   "execution_count": 34,
   "metadata": {},
   "outputs": [],
   "source": [
    "import numpy as np\n",
    "from sklearn import linear_model\n",
    "\n",
    "def ajuste_lineal(X_train, Y_train, X_test):\n",
    "    \n",
    "    \"\"\"Calcula un ajuste lineal.\n",
    "\n",
    "    Input:\n",
    "    X_train -- datos de entrenamiento, shape=(N,1)\n",
    "    Y_train -- etiquetas de entrenamiento, shape=(N,1)\n",
    "    X_test  -- datos de testeo, shape=(N_test,1)\n",
    "\n",
    "    Output:\n",
    "    Y_test  -- prediccion de etiquetas para X_test, shape=(N_test,1)\n",
    "    \"\"\"\n",
    "\n",
    "    N=len(X_train)\n",
    "    N_test=len(X_test)\n",
    "    #Start\n",
    "    reg = linear_model.LinearRegression() #Creo objeto de LinearRegression\n",
    "    reg.fit(X_train, Y_train) # Uso el metodo fit para entrenar el modelo\n",
    "    m_sk = reg.coef_ # Ordenada del ajuste\n",
    "    b_sk = reg.intercept_ # Pendiente del ajuste\n",
    "    Y_test = reg.predict(X_test) #Guardo prediccion del ajuste para x_test\n",
    "    \n",
    "    \n",
    "    #Finish\n",
    "    assert len(Y_test) == len(X_test), \"Tamaño de Y_test distinto al de X_test\"\n",
    "    return np.array(Y_test)"
   ]
  },
  {
   "cell_type": "markdown",
   "metadata": {},
   "source": [
    "## Explicacion un poco mas detallada del ejercicio\n",
    "Ver notebook de Modelos lineales en Escritorio/Joaquin/Cursadas/Aprendizaje Automatico2020/Mi repositorio GitHub/UNSAM_IA/05_ModelosLineales.ipynb"
   ]
  },
  {
   "cell_type": "code",
   "execution_count": 35,
   "metadata": {},
   "outputs": [
    {
     "name": "stdout",
     "output_type": "stream",
     "text": [
      "Ground truth\n",
      "b = 2\n",
      "m = 5\n",
      "\n",
      "Ajuste manual\n",
      "w_0 = 1.809981\n",
      "w_1 = 5.246565\n",
      "\n",
      "Ajuste usando sklearn\n",
      "w_0 = 1.809981\n",
      "w_1 = 5.246565\n",
      "ambos metodos coinciden? True\n"
     ]
    },
    {
     "data": {
      "image/png": "[encoded data removed]",
      "text/plain": [
       "<matplotlib.figure.Figure at 0x7f51003e0128>"
      ]
     },
     "metadata": {
      "needs_background": "light"
     },
     "output_type": "display_data"
    }
   ],
   "source": [
    "import numpy as np\n",
    "import matplotlib.pyplot as plt\n",
    "from sklearn import linear_model\n",
    "\n",
    "## creo datos sinteticos para probar \n",
    "m = 5\n",
    "b = 2\n",
    "\n",
    "n = 100 # cantidad de datos\n",
    "x_train = 2 * np.random.rand(n, 1)\n",
    "ground_truth = b + m*x_train\n",
    "real_data = ground_truth + np.random.randn(n,1) #agrego ruido gaussiano\n",
    "t = real_data\n",
    "\n",
    "## Ploteo los datos sinteticos\n",
    "plt.plot(x_train, ground_truth, label='ground truth')\n",
    "ax = plt.gca()\n",
    "ax.plot(x_train, real_data, 'o', label ='real data')\n",
    "ax.set_title(\"datos sinteticos\")\n",
    "\n",
    "\n",
    "#######################################################\n",
    "### Metodo 1 - Calculo los parametros W_ml \"a mano\" ###\n",
    "\n",
    "# Defino la matriz de diseño\n",
    "phi = np.hstack([x_train*0.0 + 1, x_train])\n",
    "\n",
    "pp = np.dot(phi.T, phi)\n",
    "# (2 x 80) . (80 x 2) ==> (2 x 2)\n",
    "\n",
    "yy = np.dot(phi.T, t)\n",
    "# (2 x 80) . (80 x 1) --> (2 x 1)\n",
    "\n",
    "## Utilizo ecuaciones normales para obtener los parametros de ML:\n",
    "\n",
    "wml = np.linalg.solve(pp, yy)\n",
    "\n",
    "###########################################################################\n",
    "### Metodo 2 - Obtengo los parametros w_ml usando sklearn.linear_models ###\n",
    "\n",
    "reg = linear_model.LinearRegression() #Create a linear regression object\n",
    "reg.fit(x_train, t) # Using the fit method. Using the real data to train the model (to make the fit)\n",
    "m_sk = reg.coef_\n",
    "b_sk = reg.intercept_\n",
    "\n",
    "\n",
    "x_test = np.linspace(0, 2, 100)\n",
    "#print(x_test)\n",
    "x_test = x_test.reshape(len(x_test), 1)\n",
    "#print(x_test)\n",
    "\n",
    "##### Pruebo la funcion ######\n",
    "y_test = ajuste_lineal(x_train, real_data, x_test)\n",
    "\n",
    "#print(y_test.shape)\n",
    "ax.plot(x_test, y_test, label='prediction for x_test')\n",
    "plt.legend()\n",
    "\n",
    "#print(wml)\n",
    "print(\"Ground truth\")\n",
    "print('b = {}'.format(b))\n",
    "print('m = {}'.format(m))\n",
    "\n",
    "print(\"\\nAjuste manual\")\n",
    "print(\"w_0 = %f\" % wml[0])\n",
    "print(\"w_1 = %f\" % wml[1])\n",
    "\n",
    "print(\"\\nAjuste usando sklearn\")\n",
    "print(\"w_0 = %f\" % b_sk)\n",
    "print(\"w_1 = %f\" % m_sk)\n",
    "\n",
    "print(\"ambos metodos coinciden? %s\" % np.allclose([b_sk, m_sk], wml))\n"
   ]
  }
 ],
 "metadata": {
  "kernelspec": {
   "display_name": "Python 3",
   "language": "python",
   "name": "python3"
  },
  "language_info": {
   "codemirror_mode": {
    "name": "ipython",
    "version": 3
   },
   "file_extension": ".py",
   "mimetype": "text/x-python",
   "name": "python",
   "nbconvert_exporter": "python",
   "pygments_lexer": "ipython3",
   "version": "3.6.8"
  }
 },
 "nbformat": 4,
 "nbformat_minor": 4
}
