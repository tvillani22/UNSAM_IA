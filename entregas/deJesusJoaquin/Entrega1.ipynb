{
 "cells": [
  {
   "cell_type": "markdown",
   "metadata": {},
   "source": [
    "## Presentación\n",
    "\n",
    "Estos ejercicios tienen el fin de poder evaluar la situación en la que se encuentra cada unx de ustedes a esta altura de la materia. No es un examen, ni llevará ningún tipo de nota.\n",
    "\n",
    "Les pedimos que respeten al pie de la letra el nombre de las funciones que les damos para completar y su \"signature\". Esto es, que respeten los argumentos de entrada y la salida. Esto es porque tenemos una forma de verificación automática que de otra manera no funciona. Cuando hayamos recibido los notebooks, haremos público el código de control.\n",
    "\n",
    "Por supuesto, si quieren agregar celdas y más código, si quieren hacer pruebas para asegurarse de que el código funciona, etc., pueden hacerlo aquí mismo.\n",
    "\n",
    "La _modalidad de entrega preferencial_ es a través de GitHub:\n",
    "1. Hacer un fork del [repositorio](https://github.com/exord/UNSAM_IA), tocando el botón de arriba a la derecha (ver figura). \n",
    "\n",
    "2. Crear un subdirectorio dentro del directorio <tt>entregas</tt> con el formato \"ApellidoNombre\"\n",
    "3. Completar este notebook y colocarlo en ese directorio. Hacer un \"commit\" y un \"push\" a su versión del repositorio.\n",
    "4. Realizar un <tt>pull request</tt> desde GitHub y seguir las instrucciones. Más información en la [página de GitHub](https://help.github.com/en/github/collaborating-with-issues-and-pull-requests/about-pull-requests).\n",
    "\n",
    "De ser necesario, en caso de sufrir de **alergia severa a GitHub**, el notebook puede enviarse por email.\n",
    "\n",
    "La **fecha límite** para la entrega es el **martes 21 de abril a las 20 horas**.\n",
    "\n",
    "<figure>\n",
    "    <img src=\"figures/fork_pullrequest.jpeg\", alt=\"Fork\", width=\"800px\", \n",
    "         style=\"float: left; margin-right: 10px;\"/>\n",
    "    \n",
    "     <figcaption>Fig.1 - Ubicación de los botones para Fork y Pull request en Github.</figcaption>\n",
    "</figure>"
   ]
  },
  {
   "cell_type": "markdown",
   "metadata": {
    "colab_type": "text",
    "id": "xQGJAaz9My8p"
   },
   "source": [
    "## 1. Probabilidad Condicional"
   ]
  },
  {
   "cell_type": "code",
   "execution_count": 0,
   "metadata": {
    "colab": {},
    "colab_type": "code",
    "id": "UV8ZHtWoMWVd"
   },
   "outputs": [],
   "source": [
    "#Si estas en Google Colab, ejecuta esta celda una unica vez:\n",
    "!mkdir datasets\n",
    "!mkdir datasets/student-alcohol-consumption\n",
    "!wget https://raw.githubusercontent.com/exord/UNSAM_IA/master/datasets/student-alcohol-consumption/student-mat.csv\n",
    "!mv student-mat.csv datasets/student-alcohol-consumption/student-mat.csv"
   ]
  },
  {
   "cell_type": "markdown",
   "metadata": {
    "colab_type": "text",
    "id": "MDyX2WNDM1fC"
   },
   "source": [
    "Similar al ***Caso: Apruebo si falto a clase?*** del [notebook de probabilidad condicional](02_Condicional.ipynb), calcule la probabilidad de que un alumno haya faltado menos de 3 veces dado que sacó más de un 60% en la materia, i.e.\n",
    "$$\n",
    "P( \\text{absences} < 3 | \\text{G3} \\geq 12).\n",
    "$$\n",
    "\n",
    "Por favor, utilice el siguiente signature. Se recomienda cambiar el código solamente entre los comentarios \"Start\" y \"Finish\". \n",
    "Si quiere probar cosas, siéntase libre de crear nuevas celdas de código, aunque estas no serán evaluadas."
   ]
  },
  {
   "cell_type": "code",
   "execution_count": 1,
   "metadata": {
    "colab": {},
    "colab_type": "code",
    "id": "kgp3Px1JNFbA"
   },
   "outputs": [],
   "source": [
    "import numpy as np\n",
    "import pandas as pd\n",
    "\n",
    "def prob_condicional(df=pd.read_csv('student-mat.csv')):\n",
    "    \"\"\"Calcula P(absences < 3 | G3 >= 12).\n",
    "\n",
    "    Input:\n",
    "    df -- dataset de estudiantes\n",
    "\n",
    "    Output:\n",
    "    p        -- probabilidad de que absences > 3 dado que G3 >= 12\n",
    "    \"\"\"\n",
    "    #Start\n",
    "    ## Primero debo saber cuantos alumnos sacaron grade mayor a 12\n",
    "    grade_mayor_12_bool = df['G3'] >= 12\n",
    "\n",
    "    df_grade_mayor_12 = df[grade_mayor_12_bool]\n",
    "\n",
    "    total_grade_mayor_12 = len(df_grade_mayor_12) # total de casos de alumnos con grade mayor a 12\n",
    "\n",
    "    # sobre df_grade_mayor_12, debo calcular calcular cuantos faltaron menos de 3 veces\n",
    "    df_menos_de_3_bool = df_grade_mayor_12['absences'] < 3\n",
    "    df_menos_de_3 = df_grade_mayor_12[df_menos_de_3_bool] ## dataframe con todos los que faltaron menos de 3 y sacaron mas de 12\n",
    "\n",
    "    n_menos_de_3 = len(df_menos_de_3)\n",
    "\n",
    "\n",
    "\n",
    "    # probabilidad\n",
    "    pp = float(n_menos_de_3)/total_grade_mayor_12\n",
    "\n",
    "\n",
    "    #guarda el valor final, como un número, en esta variable\n",
    "    resultado = pp\n",
    "    #Finish\n",
    "    return resultado"
   ]
  },
  {
   "cell_type": "code",
   "execution_count": 2,
   "metadata": {},
   "outputs": [
    {
     "name": "stdout",
     "output_type": "stream",
     "text": [
      "La probabilidad es 0.500000 \n"
     ]
    }
   ],
   "source": [
    "## Prueba de la funcion\n",
    "proba = prob_condicional()\n",
    "print(\"La probabilidad es %f \" % proba)"
   ]
  },
  {
   "cell_type": "markdown",
   "metadata": {
    "colab_type": "text",
    "id": "laC3JpLHOx-h"
   },
   "source": [
    "## 2. Inferencia Bayesiana"
   ]
  },
  {
   "cell_type": "markdown",
   "metadata": {
    "colab_type": "text",
    "id": "dfG9aID6_CLD"
   },
   "source": [
    "Se tira una moneda N veces, de las cuales X sale cara. La moneda sale cara con una frecuencia $\\mu$ desconocida, pero que se cree que es *fair*. \n",
    "\n",
    "Construya una función que recibe el vector con los N resultados (1: cara, 0: seca) y con él calcule tanto el posterior del parámetro $\\mu$ como la probabilidad de que $\\mu>0.7$. Use como prior una distribución normal con media 0.5 y desviación estandar 0.1 ($\\mathcal{N}(0.5,0.1)$)\n",
    "\n",
    "Por favor, utilice el siguiente signature. Se recomienda cambiar el código solamente entre los comentarios \"Start\" y \"Finish\". \n",
    "Si quiere probar cosas, siéntase libre de crear nuevas celdas de código, aunque estas no serán evaluadas.\n",
    "\n",
    "<b>Ayuda</b>: usar los métodos <tt>pdf</tt> y <tt>pmf</tt> de las clases de <tt>scipy.stats</tt> que se importan al principio de la celda. Revisar también los notebooks de [teoría](03_Inferencia.ipynb) y [práctica](03p_Inferencia_Soluciones.ipynb) que se presentaron en clase."
   ]
  },
  {
   "cell_type": "code",
   "execution_count": 3,
   "metadata": {
    "colab": {},
    "colab_type": "code",
    "id": "-NY1kRNs1GnH"
   },
   "outputs": [],
   "source": [
    "import numpy as np\n",
    "from scipy.stats import binom, norm\n",
    "from scipy.integrate import quad\n",
    "\n",
    "def inferencia_moneda(tiradas, seed=123):\n",
    "    \"\"\"Realiza inferencia bayesiana en el parametro mu de una moneda.\n",
    "\n",
    "    Input:\n",
    "    tiradas -- Resultado de N tiradas\n",
    "    seed    -- Semilla para np.random (default=123)\n",
    "\n",
    "    Output:\n",
    "    p        -- probabilidad de que mu>0.7\n",
    "    posterior-- posterior de mu, shape=(100,)\n",
    "    \"\"\"\n",
    "    np.random.seed(seed) # No se para que se usa\n",
    "    mu, step = np.linspace(0,1,num=100, retstep=True) #step es el espacio entre puntos\n",
    "\n",
    "    #Numero de tiradas, y de veces que salio cara\n",
    "    N=len(tiradas)\n",
    "    X=np.sum(tiradas)\n",
    "\n",
    "    #Start\n",
    "    \n",
    "    #prior = None #Esto es el prior evaluado en el vector mu\n",
    "    #verosimilitud = None #La verosimilitud evaluada en el vector mu\n",
    "    #posterior = prior*verosimilitud #el posterior no normalizado\n",
    "    #evidencia = None #evidencia o verosimilitud marginalizada\n",
    "    #posterior = posterior/evidencia #normalizamos para obtener el posterior\n",
    "\n",
    "    # Defino prior normal\n",
    "    prior = norm.pdf(mu,0.5,0.1)\n",
    "  \n",
    "    # Defino la Likelihood binomial\n",
    "    likelihood = binom.pmf(X, N, mu)\n",
    "  \n",
    "    # Calculo la constante de normalizacion\n",
    "    integral = quad(lambda muu: binom.pmf(X, N, muu)*norm.pdf(muu,0.5,0.1) , 0, 1)[0]\n",
    "  \n",
    "    # Defino posterior\n",
    "    posterior = likelihood*prior/integral\n",
    "\n",
    "    p = None #Probabilidad de que mu > 0.7 \n",
    "\n",
    "    # Calculo la probabilidad de que mu sea mayor a 0.7 como la integral del posterior entre 0.7 y 1\n",
    "  \n",
    "    post = lambda muu: binom.pmf(X, N, muu)*norm.pdf(muu,0.5,0.1)/integral\n",
    "    p = quad(post, 0.7, 1)[0] #proba de que mu sea mayor a 0.7\n",
    "  \n",
    "    #Finish\n",
    "    assert len(posterior) == len(mu), \"Tamaño del posterior distinto al de mu\"\n",
    "    return p, np.array(posterior)"
   ]
  },
  {
   "cell_type": "code",
   "execution_count": 4,
   "metadata": {},
   "outputs": [
    {
     "name": "stdout",
     "output_type": "stream",
     "text": [
      "La probabilidad de que mu sea mayor a 0.7 es 0.021536\n"
     ]
    }
   ],
   "source": [
    "# Prueba \n",
    "tiradas = [1, 1, 1, 0, 0]\n",
    "proba, posterior = inferencia_moneda(tiradas)\n",
    "print(\"La probabilidad de que mu sea mayor a 0.7 es %f\" % proba)"
   ]
  },
  {
   "cell_type": "markdown",
   "metadata": {
    "colab_type": "text",
    "id": "koZhGjvgO4uo"
   },
   "source": [
    "## 3. Regresión Lineal"
   ]
  },
  {
   "cell_type": "markdown",
   "metadata": {
    "colab_type": "text",
    "id": "TLYPUIQrPMgk"
   },
   "source": [
    "Construye una función que dado un input (X_train, Y_train) realice un ajuste lineal de cuadrados mínimos, y con ello devuelva las predicciones para el input X_test como un vector Y_test.\n",
    "\n",
    "Por favor, utilice el siguiente signature. Se recomienda cambiar el código solamente entre los comentarios \"Start\" y \"Finish\". \n",
    "Si quiere probar cosas, siéntase libre de crear nuevas celdas de código, aunque estas no serán evaluadas.\n",
    "\n",
    "<b>Ayuda</b>: pueden usar la implementación de las ecuaciones normales que aparece en el notebook de [modelos lineales](05_ModelosLineales.ipynb) o las clases del módulo <tt>sklearn.linear_model</tt>."
   ]
  },
  {
   "cell_type": "code",
   "execution_count": 5,
   "metadata": {
    "colab": {},
    "colab_type": "code",
    "id": "NavUqiDhPLx-"
   },
   "outputs": [],
   "source": [
    "import numpy as np\n",
    "from sklearn import linear_model\n",
    "\n",
    "\n",
    "def ajuste_lineal(X_train, Y_train, X_test):\n",
    "    \"\"\"Calcula un ajuste lineal.\n",
    "\n",
    "    Input:\n",
    "    X_train -- datos de entrenamiento, shape=(N,1)\n",
    "    Y_train -- etiquetas de entrenamiento, shape=(N,1)\n",
    "    X_test  -- datos de testeo, shape=(N_test,1)\n",
    "\n",
    "    Output:\n",
    "    Y_test  -- prediccion de etiquetas para X_test, shape=(N_test,1)\n",
    "    \"\"\"\n",
    "\n",
    "    N=len(X_train)\n",
    "    N_test=len(X_test)\n",
    "    #Start\n",
    "    reg = linear_model.LinearRegression() #Creo objeto de LinearRegression\n",
    "    reg.fit(X_train, Y_train) # Uso el metodo fit para entrenar el modelo\n",
    "    m_sk = reg.coef_ # Ordenada del ajuste\n",
    "    b_sk = reg.intercept_ # Pendiente del ajuste\n",
    "    Y_test = reg.predict(X_test) #Guardo prediccion del ajuste para x_test\n",
    "    \n",
    "    #Finish\n",
    "  \n",
    "    #ahora guardamos los resultados en esta variable\n",
    "    \n",
    "    #Finish\n",
    "    assert len(Y_test) == len(X_test), \"Tamaño de Y_test distinto al de X_test\"\n",
    "    return np.array(Y_test)"
   ]
  },
  {
   "cell_type": "code",
   "execution_count": 7,
   "metadata": {},
   "outputs": [
    {
     "data": {
      "text/plain": [
       "<matplotlib.legend.Legend at 0x7fe16ee70080>"
      ]
     },
     "execution_count": 7,
     "metadata": {},
     "output_type": "execute_result"
    },
    {
     "data": {
      "image/png": "[encoded data removed]",
      "text/plain": [
       "<matplotlib.figure.Figure at 0x7fe16eebd048>"
      ]
     },
     "metadata": {
      "needs_background": "light"
     },
     "output_type": "display_data"
    }
   ],
   "source": [
    "## Prueba de la funcion\n",
    "import matplotlib.pyplot as plt\n",
    "\n",
    "## creo datos sinteticos para probar \n",
    "m = 5\n",
    "b = 2\n",
    "\n",
    "n = 100 # cantidad de datos\n",
    "x_train = 2 * np.random.rand(n, 1)\n",
    "ground_truth = b + m*x_train\n",
    "real_data = ground_truth + np.random.randn(n,1) #agrego ruido gaussiano\n",
    "t = real_data\n",
    "\n",
    "x_test = x_test = np.linspace(0, 2, n)\n",
    "x_test = x_test.reshape(len(x_test), 1) # Reshape para convertirlo en vector columna\n",
    "\n",
    "y_test = ajuste_lineal(x_train, real_data, x_test) # Ejecuto la funcion\n",
    "\n",
    "## Plot \n",
    "plt.plot(x_train, ground_truth, label='ground truth')\n",
    "ax = plt.gca()\n",
    "ax.plot(x_train, real_data, 'o', label ='real data (train)')\n",
    "ax.set_title(\"datos sinteticos\")\n",
    "ax.plot(x_test, y_test, label='prediction for x_test')\n",
    "plt.legend()\n"
   ]
  }
 ],
 "metadata": {
  "colab": {
   "collapsed_sections": [],
   "name": "Auto-evaluación.ipynb",
   "provenance": []
  },
  "kernelspec": {
   "display_name": "Python 3",
   "language": "python",
   "name": "python3"
  },
  "language_info": {
   "codemirror_mode": {
    "name": "ipython",
    "version": 3
   },
   "file_extension": ".py",
   "mimetype": "text/x-python",
   "name": "python",
   "nbconvert_exporter": "python",
   "pygments_lexer": "ipython3",
   "version": "3.6.8"
  }
 },
 "nbformat": 4,
 "nbformat_minor": 1
}
