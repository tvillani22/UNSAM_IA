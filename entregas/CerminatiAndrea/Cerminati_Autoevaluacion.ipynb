{
  "nbformat": 4,
  "nbformat_minor": 0,
  "metadata": {
    "colab": {
      "name": "Copia de Auto-evaluación.ipynb",
      "provenance": [],
      "collapsed_sections": []
    },
    "kernelspec": {
      "display_name": "Python 3",
      "language": "python",
      "name": "python3"
    },
    "language_info": {
      "codemirror_mode": {
        "name": "ipython",
        "version": 3
      },
      "file_extension": ".py",
      "mimetype": "text/x-python",
      "name": "python",
      "nbconvert_exporter": "python",
      "pygments_lexer": "ipython3",
      "version": "3.7.6"
    }
  },
  "cells": [
    {
      "cell_type": "markdown",
      "metadata": {
        "id": "xPiVs9xpZ3hD",
        "colab_type": "text"
      },
      "source": [
        "## Presentación\n",
        "\n",
        "Estos ejercicios tienen el fin de poder evaluar la situación en la que se encuentra cada unx de ustedes a esta altura de la materia. No es un examen, ni llevará ningún tipo de nota.\n",
        "\n",
        "Les pedimos que respeten al pie de la letra el nombre de las funciones que les damos para completar y su \"signature\". Esto es, que respeten los argumentos de entrada y la salida. Esto es porque tenemos una forma de verificación automática que de otra manera no funciona. Cuando hayamos recibido los notebooks, haremos público el código de control.\n",
        "\n",
        "Por supuesto, si quieren agregar celdas y más código, si quieren hacer pruebas para asegurarse de que el código funciona, etc., pueden hacerlo aquí mismo.\n",
        "\n",
        "La _modalidad de entrega preferencial_ es a través de GitHub:\n",
        "1. Hacer un fork del [repositorio](https://github.com/exord/UNSAM_IA), tocando el botón de arriba a la derecha (ver figura). \n",
        "\n",
        "2. Crear un subdirectorio dentro del directorio <tt>entregas</tt> con el formato \"ApellidoNombre\"\n",
        "3. Completar este notebook y colocarlo en ese directorio. Hacer un \"commit\" y un \"push\" a su versión del repositorio.\n",
        "4. Realizar un <tt>pull request</tt> desde GitHub y seguir las instrucciones. Más información en la [página de GitHub](https://help.github.com/en/github/collaborating-with-issues-and-pull-requests/about-pull-requests).\n",
        "\n",
        "De ser necesario, en caso de sufrir de **alergia severa a GitHub**, el notebook puede enviarse por email.\n",
        "\n",
        "La **fecha límite** para la entrega es el **martes 21 de abril a las 20 horas**.\n",
        "\n",
        "<figure>\n",
        "    <img src=\"https://github.com/exord/UNSAM_IA/blob/master/figures/fork_pullrequest.jpeg?raw=1\", alt=\"Fork\", width=\"800px\", \n",
        "         style=\"float: left; margin-right: 10px;\"/>\n",
        "    \n",
        "     <figcaption>Fig.1 - Ubicación de los botones para Fork y Pull request en Github.</figcaption>\n",
        "</figure>"
      ]
    },
    {
      "cell_type": "markdown",
      "metadata": {
        "colab_type": "text",
        "id": "xQGJAaz9My8p"
      },
      "source": [
        "## 1. Probabilidad Condicional"
      ]
    },
    {
      "cell_type": "code",
      "metadata": {
        "colab_type": "code",
        "id": "UV8ZHtWoMWVd",
        "outputId": "78e14cfd-868d-4ba4-d40b-c5e773369bf5",
        "colab": {
          "base_uri": "https://localhost:8080/",
          "height": 238
        }
      },
      "source": [
        "#Si estas en Google Colab, ejecuta esta celda una unica vez:\n",
        "!mkdir datasets\n",
        "!mkdir datasets/student-alcohol-consumption\n",
        "!wget https://raw.githubusercontent.com/exord/UNSAM_IA/master/datasets/student-alcohol-consumption/student-mat.csv\n",
        "!mv student-mat.csv datasets/student-alcohol-consumption/student-mat.csv"
      ],
      "execution_count": 39,
      "outputs": [
        {
          "output_type": "stream",
          "text": [
            "mkdir: cannot create directory ‘datasets’: File exists\n",
            "mkdir: cannot create directory ‘datasets/student-alcohol-consumption’: File exists\n",
            "--2020-04-21 19:48:49--  https://raw.githubusercontent.com/exord/UNSAM_IA/master/datasets/student-alcohol-consumption/student-mat.csv\n",
            "Resolving raw.githubusercontent.com (raw.githubusercontent.com)... 151.101.0.133, 151.101.64.133, 151.101.128.133, ...\n",
            "Connecting to raw.githubusercontent.com (raw.githubusercontent.com)|151.101.0.133|:443... connected.\n",
            "HTTP request sent, awaiting response... 200 OK\n",
            "Length: 41983 (41K) [text/plain]\n",
            "Saving to: ‘student-mat.csv’\n",
            "\n",
            "student-mat.csv     100%[===================>]  41.00K  --.-KB/s    in 0.02s   \n",
            "\n",
            "2020-04-21 19:48:49 (1.65 MB/s) - ‘student-mat.csv’ saved [41983/41983]\n",
            "\n"
          ],
          "name": "stdout"
        }
      ]
    },
    {
      "cell_type": "markdown",
      "metadata": {
        "colab_type": "text",
        "id": "MDyX2WNDM1fC"
      },
      "source": [
        "Similar al ***Caso: Apruebo si falto a clase?*** del [notebook de probabilidad condicional](02_Condicional.ipynb), calcule la probabilidad de que un alumno haya faltado menos de 3 veces dado que sacó más de un 60% en la materia, i.e.\n",
        "$$\n",
        "P( \\text{absences} < 3 | \\text{G3} \\geq 12).\n",
        "$$\n",
        "\n",
        "Por favor, utilice el siguiente signature. Se recomienda cambiar el código solamente entre los comentarios \"Start\" y \"Finish\". \n",
        "Si quiere probar cosas, siéntase libre de crear nuevas celdas de código, aunque estas no serán evaluadas."
      ]
    },
    {
      "cell_type": "code",
      "metadata": {
        "colab_type": "code",
        "id": "kgp3Px1JNFbA",
        "colab": {}
      },
      "source": [
        "import numpy as np\n",
        "import pandas as pd\n",
        "\n",
        "def prob_condicional(\n",
        "    df=pd.read_csv('datasets/student-alcohol-consumption/student-mat.csv')):\n",
        "    #Start\n",
        "    print(\"Cantidad de registros: {}\".format(len(df)))\n",
        " \n",
        "    df['falto_poco'] = np.where(df['absences'] < 3, 1, 0)\n",
        "    df['>60'] = np.where(df['G3']*5 >= 60, 1, 0)\n",
        "    df['cuenta'] = 1\n",
        "    df = df[['>60','falto_poco','cuenta']]\n",
        "    df.head()\n",
        "    pd.pivot_table(\n",
        "        df,\n",
        "        values = 'cuenta',\n",
        "        index = ['>60'],\n",
        "        columns = ['falto_poco'],\n",
        "        aggfunc = np.sum,\n",
        "        fill_value = 0)\n",
        "    Pfp=(102+81)/395\n",
        "    Pmas60=(81+81)/395\n",
        "    Pfpintersecmas60=81/395\n",
        "    p=Pfpintersecmas60/Pmas60*100\n",
        "  \n",
        "  \n",
        "\n",
        "\n",
        "    #guarda el valor final, como un número, en esta variable\n",
        "    resultado = 0.5\n",
        "    #Finish\n",
        "    return resultado"
      ],
      "execution_count": 0,
      "outputs": []
    },
    {
      "cell_type": "markdown",
      "metadata": {
        "colab_type": "text",
        "id": "laC3JpLHOx-h"
      },
      "source": [
        "## 2. Inferencia Bayesiana"
      ]
    },
    {
      "cell_type": "markdown",
      "metadata": {
        "colab_type": "text",
        "id": "dfG9aID6_CLD"
      },
      "source": [
        "Se tira una moneda N veces, de las cuales X sale cara. La moneda sale cara con una frecuencia $\\mu$ desconocida, pero que se cree que es *fair*. \n",
        "\n",
        "Construya una función que recibe el vector con los N resultados (1: cara, 0: seca) y con él calcule tanto el posterior del parámetro $\\mu$ como la probabilidad de que $\\mu>0.7$. Use como prior una distribución normal con media 0.5 y desviación estandar 0.1 ($\\mathcal{N}(0.5,0.1)$)\n",
        "\n",
        "Por favor, utilice el siguiente signature. Se recomienda cambiar el código solamente entre los comentarios \"Start\" y \"Finish\". \n",
        "Si quiere probar cosas, siéntase libre de crear nuevas celdas de código, aunque estas no serán evaluadas.\n",
        "\n",
        "<b>Ayuda</b>: usar los métodos <tt>pdf</tt> y <tt>pmf</tt> de las clases de <tt>scipy.stats</tt> que se importan al principio de la celda. Revisar también los notebooks de [teoría](03_Inferencia.ipynb) y [práctica](03p_Inferencia_Soluciones.ipynb) que se presentaron en clase."
      ]
    },
    {
      "cell_type": "code",
      "metadata": {
        "colab_type": "code",
        "id": "-NY1kRNs1GnH",
        "colab": {}
      },
      "source": [
        "import numpy as np\n",
        "from scipy.stats import binom, norm\n",
        "\n",
        "def inferencia_moneda(tiradas, seed=123):\n",
        "  \n",
        "    np.random.seed(seed)\n",
        "    mu, step = np.linspace(0,1,num=100, retstep=True) #step es el espacio entre puntos\n",
        "\n",
        "    #Numero de tiradas, y de veces que salio cara\n",
        "    N=len(tiradas)\n",
        "    X=np.sum(tiradas)\n",
        "\n",
        "    #Start\n",
        "    prior = norm.pdf(mu,0.5,0.1) # mu, media y desvio\n",
        "    verosimilitud = binom.pmf(X,N,mu) #La verosimilitud evaluada en el vector mu, \n",
        "    posterior = prior*verosimilitud #el posterior no normalizado\n",
        "    evidencia = posterior.sum()*0.01 #evidencia o verosimilitud marginalizada son 100 puntos equiespaciados (divido por 100)\n",
        "    posterior = posterior/evidencia #normalizamos para obtener el posterior\n",
        "\n",
        "    p = posterior[mu>0.7].sum()*0.01 #Probabilidad de que mu > 0.7 \n",
        "    #Finish\n",
        "    assert len(posterior) == len(mu), \"Tamaño del posterior distinto al de mu\"\n",
        "    return p, np.array(posterior)\n",
        "\n"
      ],
      "execution_count": 0,
      "outputs": []
    },
    {
      "cell_type": "code",
      "metadata": {
        "id": "RbH5XmKDdlqj",
        "colab_type": "code",
        "colab": {}
      },
      "source": [
        ""
      ],
      "execution_count": 0,
      "outputs": []
    },
    {
      "cell_type": "markdown",
      "metadata": {
        "colab_type": "text",
        "id": "koZhGjvgO4uo"
      },
      "source": [
        "## 3. Regresión Lineal"
      ]
    },
    {
      "cell_type": "markdown",
      "metadata": {
        "colab_type": "text",
        "id": "TLYPUIQrPMgk"
      },
      "source": [
        "Construye una función que dado un input (X_train, Y_train) realice un ajuste lineal de cuadrados mínimos, y con ello devuelva las predicciones para el input X_test como un vector Y_test.\n",
        "\n",
        "Por favor, utilice el siguiente signature. Se recomienda cambiar el código solamente entre los comentarios \"Start\" y \"Finish\". \n",
        "Si quiere probar cosas, siéntase libre de crear nuevas celdas de código, aunque estas no serán evaluadas.\n",
        "\n",
        "<b>Ayuda</b>: pueden usar la implementación de las ecuaciones normales que aparece en el notebook de [modelos lineales](05_ModelosLineales.ipynb) o las clases del módulo <tt>sklearn.linear_model</tt>."
      ]
    },
    {
      "cell_type": "code",
      "metadata": {
        "colab_type": "code",
        "id": "NavUqiDhPLx-",
        "colab": {}
      },
      "source": [
        "import numpy as np\n",
        "\n",
        "def ajuste_lineal(X_train, Y_train, X_test):\n",
        "    \"\"\"Calcula un ajuste lineal.\n",
        "\n",
        "    Input:\n",
        "    X_train -- datos de entrenamiento, shape=(N,1)\n",
        "    Y_train -- etiquetas de entrenamiento, shape=(N,1)\n",
        "    X_test  -- datos de testeo, shape=(N_test,1)\n",
        "\n",
        "    Output:\n",
        "    Y_test  -- prediccion de etiquetas para X_test, shape=(N_test,1)\n",
        "    \"\"\"\n",
        "\n",
        "    N=len(X_train)\n",
        "    N_test=len(X_test)\n",
        "    #Start\n",
        "    phi = np.hstack([X_train*0.0 + 1, X_train])\n",
        "    pp = np.dot(phi.T, phi)\n",
        "    yy = np.dot(phi.T, t)\n",
        "    wml = np.linalg.solve(pp, yy)\n",
        "    phi_test = np.hstack([X_test*0.0 + 1, X_test])\n",
        "    #ahora guardamos los resultados en esta variable\n",
        "    Y_test = phi_test@ wml\n",
        "    #Finish\n",
        "    assert len(Y_test) == len(X_test), \"Tamaño de Y_test distinto al de X_test\"\n",
        "    return np.array(Y_test)"
      ],
      "execution_count": 0,
      "outputs": []
    },
    {
      "cell_type": "code",
      "metadata": {
        "id": "sF3On7RFrA1C",
        "colab_type": "code",
        "colab": {}
      },
      "source": [
        ""
      ],
      "execution_count": 0,
      "outputs": []
    }
  ]
}