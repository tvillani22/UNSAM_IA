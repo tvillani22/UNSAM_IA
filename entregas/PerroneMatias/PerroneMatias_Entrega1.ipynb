{
  "nbformat": 4,
  "nbformat_minor": 0,
  "metadata": {
    "colab": {
      "name": "Copia de Auto-evaluación.ipynb",
      "provenance": [],
      "collapsed_sections": []
    },
    "kernelspec": {
      "display_name": "Python 3",
      "language": "python",
      "name": "python3"
    },
    "language_info": {
      "codemirror_mode": {
        "name": "ipython",
        "version": 3
      },
      "file_extension": ".py",
      "mimetype": "text/x-python",
      "name": "python",
      "nbconvert_exporter": "python",
      "pygments_lexer": "ipython3",
      "version": "3.7.6"
    }
  },
  "cells": [
    {
      "cell_type": "markdown",
      "metadata": {
        "id": "MgJRUjfrkiJp",
        "colab_type": "text"
      },
      "source": [
        "## Presentación\n",
        "\n",
        "Estos ejercicios tienen el fin de poder evaluar la situación en la que se encuentra cada unx de ustedes a esta altura de la materia. No es un examen, ni llevará ningún tipo de nota.\n",
        "\n",
        "Les pedimos que respeten al pie de la letra el nombre de las funciones que les damos para completar y su \"signature\". Esto es, que respeten los argumentos de entrada y la salida. Esto es porque tenemos una forma de verificación automática que de otra manera no funciona. Cuando hayamos recibido los notebooks, haremos público el código de control.\n",
        "\n",
        "Por supuesto, si quieren agregar celdas y más código, si quieren hacer pruebas para asegurarse de que el código funciona, etc., pueden hacerlo aquí mismo.\n",
        "\n",
        "La _modalidad de entrega preferencial_ es a través de GitHub:\n",
        "1. Hacer un fork del [repositorio](https://github.com/exord/UNSAM_IA), tocando el botón de arriba a la derecha (ver figura). \n",
        "\n",
        "2. Crear un subdirectorio dentro del directorio <tt>entregas</tt> con el formato \"ApellidoNombre\"\n",
        "3. Completar este notebook y colocarlo en ese directorio. Hacer un \"commit\" y un \"push\" a su versión del repositorio.\n",
        "4. Realizar un <tt>pull request</tt> desde GitHub y seguir las instrucciones. Más información en la [página de GitHub](https://help.github.com/en/github/collaborating-with-issues-and-pull-requests/about-pull-requests).\n",
        "\n",
        "De ser necesario, en caso de sufrir de **alergia severa a GitHub**, el notebook puede enviarse por email.\n",
        "\n",
        "La **fecha límite** para la entrega es el **martes 21 de abril a las 20 horas**.\n",
        "\n",
        "<figure>\n",
        "    <img src=\"https://github.com/exord/UNSAM_IA/blob/master/figures/fork_pullrequest.jpeg?raw=1\", alt=\"Fork\", width=\"800px\", \n",
        "         style=\"float: left; margin-right: 10px;\"/>\n",
        "    \n",
        "     <figcaption>Fig.1 - Ubicación de los botones para Fork y Pull request en Github.</figcaption>\n",
        "</figure>"
      ]
    },
    {
      "cell_type": "markdown",
      "metadata": {
        "colab_type": "text",
        "id": "xQGJAaz9My8p"
      },
      "source": [
        "## 1. Probabilidad Condicional"
      ]
    },
    {
      "cell_type": "code",
      "metadata": {
        "colab_type": "code",
        "id": "UV8ZHtWoMWVd",
        "outputId": "aa2c2756-4b51-4aa8-a12b-ce6ff4052e0d",
        "colab": {
          "base_uri": "https://localhost:8080/",
          "height": 204
        }
      },
      "source": [
        "#Si estas en Google Colab, ejecuta esta celda una unica vez:\n",
        "!mkdir datasets\n",
        "!mkdir datasets/student-alcohol-consumption\n",
        "!wget https://raw.githubusercontent.com/exord/UNSAM_IA/master/datasets/student-alcohol-consumption/student-mat.csv\n",
        "!mv student-mat.csv datasets/student-alcohol-consumption/student-mat.csv"
      ],
      "execution_count": 0,
      "outputs": [
        {
          "output_type": "stream",
          "text": [
            "--2020-04-18 18:35:12--  https://raw.githubusercontent.com/exord/UNSAM_IA/master/datasets/student-alcohol-consumption/student-mat.csv\n",
            "Resolving raw.githubusercontent.com (raw.githubusercontent.com)... 151.101.0.133, 151.101.64.133, 151.101.128.133, ...\n",
            "Connecting to raw.githubusercontent.com (raw.githubusercontent.com)|151.101.0.133|:443... connected.\n",
            "HTTP request sent, awaiting response... 200 OK\n",
            "Length: 41983 (41K) [text/plain]\n",
            "Saving to: ‘student-mat.csv’\n",
            "\n",
            "\rstudent-mat.csv       0%[                    ]       0  --.-KB/s               \rstudent-mat.csv     100%[===================>]  41.00K  --.-KB/s    in 0.02s   \n",
            "\n",
            "2020-04-18 18:35:12 (1.68 MB/s) - ‘student-mat.csv’ saved [41983/41983]\n",
            "\n"
          ],
          "name": "stdout"
        }
      ]
    },
    {
      "cell_type": "markdown",
      "metadata": {
        "colab_type": "text",
        "id": "MDyX2WNDM1fC"
      },
      "source": [
        "Similar al ***Caso: Apruebo si falto a clase?*** del [notebook de probabilidad condicional](02_Condicional.ipynb), calcule la probabilidad de que un alumno haya faltado menos de 3 veces dado que sacó más de un 60% en la materia, i.e.\n",
        "$$\n",
        "P( \\text{absences} < 3 | \\text{G3} \\geq 12).\n",
        "$$\n",
        "\n",
        "Por favor, utilice el siguiente signature. Se recomienda cambiar el código solamente entre los comentarios \"Start\" y \"Finish\". \n",
        "Si quiere probar cosas, siéntase libre de crear nuevas celdas de código, aunque estas no serán evaluadas."
      ]
    },
    {
      "cell_type": "code",
      "metadata": {
        "colab_type": "code",
        "id": "kgp3Px1JNFbA",
        "colab": {}
      },
      "source": [
        "import numpy as np\n",
        "import pandas as pd\n",
        "\n",
        "def prob_condicional(\n",
        "    df=pd.read_csv('datasets/student-alcohol-consumption/student-mat.csv')):\n",
        "    \"\"\"Calcula P(absences < 3 | G3 >= 12).\n",
        "\n",
        "    Input:\n",
        "    df -- dataset de estudiantes\n",
        "\n",
        "    Output:\n",
        "    p        -- probabilidad de que absences > 3 dado que G3 >= 12\n",
        "    \"\"\"\n",
        "    #Start\n",
        "    df['aprueba'] = np.where(df['G3']>= 12, 1, 0)\n",
        "    df['falto_poco'] = np.where(df['absences'] < 3, 1, 0)\n",
        "    df['contar'] = 1\n",
        "    df = df[['aprueba','falto_poco','contar']]\n",
        "    df.head()\n",
        "    dg = pd.pivot_table(df, values = 'contar', index = ['aprueba'], columns = ['falto_poco'], aggfunc = np.sum, fill_value = 0)\n",
        "    \n",
        "    #guarda el valor final, como un número, en esta variable\n",
        "    resultado = dg.iloc[1,1]/(dg.iloc[1,1]+dg.iloc[1,0])\n",
        "    #Finish\n",
        "    return resultado"
      ],
      "execution_count": 0,
      "outputs": []
    },
    {
      "cell_type": "markdown",
      "metadata": {
        "colab_type": "text",
        "id": "laC3JpLHOx-h"
      },
      "source": [
        "## 2. Inferencia Bayesiana"
      ]
    },
    {
      "cell_type": "markdown",
      "metadata": {
        "colab_type": "text",
        "id": "dfG9aID6_CLD"
      },
      "source": [
        "Se tira una moneda N veces, de las cuales X sale cara. La moneda sale cara con una frecuencia $\\mu$ desconocida, pero que se cree que es *fair*. \n",
        "\n",
        "Construya una función que recibe el vector con los N resultados (1: cara, 0: seca) y con él calcule tanto el posterior del parámetro $\\mu$ como la probabilidad de que $\\mu>0.7$. Use como prior una distribución normal con media 0.5 y desviación estandar 0.1 ($\\mathcal{N}(0.5,0.1)$)\n",
        "\n",
        "Por favor, utilice el siguiente signature. Se recomienda cambiar el código solamente entre los comentarios \"Start\" y \"Finish\". \n",
        "Si quiere probar cosas, siéntase libre de crear nuevas celdas de código, aunque estas no serán evaluadas.\n",
        "\n",
        "<b>Ayuda</b>: usar los métodos <tt>pdf</tt> y <tt>pmf</tt> de las clases de <tt>scipy.stats</tt> que se importan al principio de la celda. Revisar también los notebooks de [teoría](03_Inferencia.ipynb) y [práctica](03p_Inferencia_Soluciones.ipynb) que se presentaron en clase."
      ]
    },
    {
      "cell_type": "code",
      "metadata": {
        "colab_type": "code",
        "id": "-NY1kRNs1GnH",
        "colab": {}
      },
      "source": [
        "import numpy as np\n",
        "from scipy.stats import binom, norm\n",
        "\n",
        "def inferencia_moneda(tiradas, seed=123):\n",
        "    \"\"\"Realiza inferencia bayesiana en el parametro mu de una moneda.\n",
        "\n",
        "    Input:\n",
        "    tiradas -- Resultado de N tiradas\n",
        "    seed    -- Semilla para np.random (default=123)\n",
        "\n",
        "    Output:\n",
        "    p        -- probabilidad de que mu>0.7\n",
        "    posterior-- posterior de mu, shape=(100,)\n",
        "    \"\"\"\n",
        "    np.random.seed(seed)\n",
        "    mu, step = np.linspace(0,1,num=100, retstep=True) #step es el espacio entre puntos\n",
        "\n",
        "    #Numero de tiradas, y de veces que salio cara\n",
        "    N=len(tiradas)\n",
        "    X=np.sum(tiradas)\n",
        "\n",
        "    #Start\n",
        "    prior = norm.pdf(mu,0.5,0.1) #Esto es el prior evaluado en el vector mu\n",
        "    verosimilitud = binom.pmf(X,N,mu) #La verosimilitud evaluada en el vector mu\n",
        "    posterior = prior*verosimilitud #el posterior no normalizado\n",
        "    evidencia = posterior.sum()*step #evidencia o verosimilitud marginalizada\n",
        "    posterior = posterior/evidencia #normalizamos para obtener el posterior\n",
        "\n",
        "    p = posterior[mu>0.7].sum()*step #Probabilidad de que mu > 0.7 \n",
        "    #Finish\n",
        "    assert len(posterior) == len(mu), \"Tamaño del posterior distinto al de mu\"\n",
        "    return p, np.array(posterior)"
      ],
      "execution_count": 0,
      "outputs": []
    },
    {
      "cell_type": "code",
      "metadata": {
        "id": "88EhhPuv4DRQ",
        "colab_type": "code",
        "outputId": "6cf37143-a7f8-4693-a153-911f96c9e35f",
        "colab": {
          "base_uri": "https://localhost:8080/",
          "height": 298
        }
      },
      "source": [
        "from scipy.stats import bernoulli\n",
        "from matplotlib import pyplot as plt\n",
        "%matplotlib inline\n",
        "\n",
        "##### Probando la funcion: #####\n",
        "\n",
        "mu = 0.7\n",
        "tiradas = bernoulli.rvs(mu, size=1000)\n",
        "\n",
        "p, posterior = inferencia_moneda(tiradas)\n",
        "\n",
        "plt.plot(posterior, label=\"Posterior\")\n",
        "plt.legend()\n",
        "plt.xlabel(r'$\\mu$')\n",
        "plt.ylabel(r'$P(p)$')\n",
        "plt.show()\n",
        "\n",
        "print(p, np.argmax(posterior)/100)"
      ],
      "execution_count": 0,
      "outputs": [
        {
          "output_type": "display_data",
          "data": {
            "image/png": "[encoded data removed]",
            "text/plain": [
              "<Figure size 432x288 with 1 Axes>"
            ]
          },
          "metadata": {
            "tags": [],
            "needs_background": "light"
          }
        },
        {
          "output_type": "stream",
          "text": [
            "0.7009942950641406 0.7\n"
          ],
          "name": "stdout"
        }
      ]
    },
    {
      "cell_type": "markdown",
      "metadata": {
        "colab_type": "text",
        "id": "koZhGjvgO4uo"
      },
      "source": [
        "## 3. Regresión Lineal"
      ]
    },
    {
      "cell_type": "markdown",
      "metadata": {
        "colab_type": "text",
        "id": "TLYPUIQrPMgk"
      },
      "source": [
        "Construye una función que dado un input (X_train, Y_train) realice un ajuste lineal de cuadrados mínimos, y con ello devuelva las predicciones para el input X_test como un vector Y_test.\n",
        "\n",
        "Por favor, utilice el siguiente signature. Se recomienda cambiar el código solamente entre los comentarios \"Start\" y \"Finish\". \n",
        "Si quiere probar cosas, siéntase libre de crear nuevas celdas de código, aunque estas no serán evaluadas.\n",
        "\n",
        "<b>Ayuda</b>: pueden usar la implementación de las ecuaciones normales que aparece en el notebook de [modelos lineales](05_ModelosLineales.ipynb) o las clases del módulo <tt>sklearn.linear_model</tt>."
      ]
    },
    {
      "cell_type": "code",
      "metadata": {
        "colab_type": "code",
        "id": "NavUqiDhPLx-",
        "colab": {}
      },
      "source": [
        "import numpy as np\n",
        "\n",
        "def ajuste_lineal(X_train, Y_train, X_test):\n",
        "    \"\"\"Calcula un ajuste lineal.\n",
        "\n",
        "    Input:\n",
        "    X_train -- datos de entrenamiento, shape=(N,1)\n",
        "    Y_train -- etiquetas de entrenamiento, shape=(N,1)\n",
        "    X_test  -- datos de testeo, shape=(N_test,1)\n",
        "\n",
        "    Output:\n",
        "    Y_test  -- prediccion de etiquetas para X_test, shape=(N_test,1)\n",
        "    \"\"\"\n",
        "\n",
        "    N=len(X_train)\n",
        "    N_test=len(X_test)\n",
        "    #Start\n",
        "    \n",
        "    phi = np.hstack([X_train*0.0 + 1, X_train])\n",
        "\n",
        "    pp = np.dot(phi.T, phi) #multiplico por la transpuesta\n",
        "\n",
        "    yy = np.dot(phi.T, Y_train) #multiplico por el Y_train\n",
        "\n",
        "    wml = np.linalg.solve(pp, yy) #calculo Wml\n",
        "\n",
        "    phi_test = np.hstack([X_test*0.0 + 1, X_test])\n",
        "    \n",
        "    #ahora guardamos los resultados en esta variable\n",
        "    Y_test = phi_test @ wml\n",
        "    #Finish\n",
        "    assert len(Y_test) == len(X_test), \"Tamaño de Y_test distinto al de X_test\"\n",
        "    return np.array(Y_test)"
      ],
      "execution_count": 0,
      "outputs": []
    },
    {
      "cell_type": "code",
      "metadata": {
        "id": "GQt9nhbSCWYG",
        "colab_type": "code",
        "outputId": "ae190010-556f-457d-980d-0a7074d75980",
        "colab": {
          "base_uri": "https://localhost:8080/",
          "height": 313
        }
      },
      "source": [
        "import numpy.random as rr\n",
        "\n",
        "##### Probando la funcion: #####\n",
        "\n",
        "# Parámetros\n",
        "b = 4\n",
        "m = 5\n",
        "n = 100\n",
        "\n",
        "# Contruyo unos datos de prueba\n",
        "x_ = 2 * np.random.rand(n, 1)\n",
        "t_ = b + m * x_\n",
        "t_ += np.random.randn(n, 1)\n",
        "data = np.hstack([x_, t_])\n",
        "\n",
        "# Defino Train y Test\n",
        "from sklearn.model_selection import train_test_split\n",
        "data_train, data_test = train_test_split(data, test_size=0.2, random_state=1234)\n",
        "\n",
        "X_train = data_train[:, 0].reshape(len(data_train), 1)\n",
        "Y_train = data_train[:, 1].reshape(len(data_train), 1)\n",
        "X_test = data_test[:, 0].reshape(len(data_test), 1)\n",
        "\n",
        "print(\"Los shapes de train y test son:\", X_train.shape, X_test.shape)\n",
        "\n",
        "#Corro la funcion con los datos generados:\n",
        "\n",
        "Y_pred = ajuste_lineal(X_train, Y_train, X_test)\n",
        "\n",
        "# Ploteo\n",
        "plt.plot(X_train, Y_train, '.', label=\"Datos de Training\")\n",
        "plt.plot(X_test, Y_pred, 'o-r', lw=0.5, label= \"Predicción\")\n",
        "plt.xlabel('x')\n",
        "plt.ylabel('y')\n",
        "plt.legend()"
      ],
      "execution_count": 0,
      "outputs": [
        {
          "output_type": "stream",
          "text": [
            "Los shapes de train y test son: (80, 1) (20, 1)\n"
          ],
          "name": "stdout"
        },
        {
          "output_type": "execute_result",
          "data": {
            "text/plain": [
              "<matplotlib.legend.Legend at 0x7fe8587b3b00>"
            ]
          },
          "metadata": {
            "tags": []
          },
          "execution_count": 100
        },
        {
          "output_type": "display_data",
          "data": {
            "image/png": "[encoded data removed]",
            "text/plain": [
              "<Figure size 432x288 with 1 Axes>"
            ]
          },
          "metadata": {
            "tags": [],
            "needs_background": "light"
          }
        }
      ]
    }
  ]
}
